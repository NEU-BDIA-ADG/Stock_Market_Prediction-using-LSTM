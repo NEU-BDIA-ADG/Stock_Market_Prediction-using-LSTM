{
 "cells": [
  {
   "cell_type": "markdown",
   "metadata": {},
   "source": [
    "<h1, align = \"center\"> Stock Price Prediction with Twitter Sentiment Analysis Data using Long-short term memory </h1>\n",
    "\n",
    "<h3>_by Ann, Gunjan and Divya_ / [Github](https://github.com/NEU-BDIA-ADG/Stock_Market_Prediction-using-LSTM)</h3>"
   ]
  },
  {
   "cell_type": "markdown",
   "metadata": {},
   "source": [
    "In this notebook, we tried to train the LSTM with sentimental measures calculated from Alien api. It follwed the same steps as in \"**LSTM.ipynb**\" except the sentiment measure which was correlated with the corresponding dates of the stock data. But the model gave poor result insipte of tunning the parameters."
   ]
  },
  {
   "cell_type": "code",
   "execution_count": 1,
   "metadata": {},
   "outputs": [
    {
     "name": "stderr",
     "output_type": "stream",
     "text": [
      "C:\\ProgramData\\Anaconda3\\lib\\site-packages\\h5py\\__init__.py:36: FutureWarning: Conversion of the second argument of issubdtype from `float` to `np.floating` is deprecated. In future, it will be treated as `np.float64 == np.dtype(float).type`.\n",
      "  from ._conv import register_converters as _register_converters\n",
      "Using TensorFlow backend.\n"
     ]
    }
   ],
   "source": [
    "import csv\n",
    "import pandas as pd\n",
    "import numpy as np\n",
    "from pandas import DataFrame\n",
    "from pandas import concat\n",
    "from sklearn.preprocessing import MinMaxScaler\n",
    "from sklearn.preprocessing import LabelEncoder\n",
    "from sklearn.metrics import mean_squared_error\n",
    "from keras.models import Sequential\n",
    "from keras.layers import Dense\n",
    "from keras.layers import LSTM\n",
    "from math import sqrt\n",
    "from numpy import concatenate\n",
    "from sklearn.model_selection import train_test_split\n",
    "%matplotlib inline\n",
    "import matplotlib.pyplot as plt\n",
    "from sklearn.metrics import *\n",
    "from math import sqrt\n",
    "import time\n",
    "import math\n",
    "from keras.models import Sequential\n",
    "from keras.layers.core import Dense, Dropout, Activation\n",
    "from keras.layers.recurrent import LSTM\n",
    "import numpy as np\n",
    "import pandas as pd\n",
    "import sklearn.preprocessing as prep\n",
    "from sklearn.model_selection import GridSearchCV\n",
    "from keras.wrappers.scikit_learn import KerasRegressor\n",
    "from decimal import *"
   ]
  },
  {
   "cell_type": "markdown",
   "metadata": {},
   "source": [
    "Creating two different dataset one with stock data and other one with tweets."
   ]
  },
  {
   "cell_type": "code",
   "execution_count": 2,
   "metadata": {
    "collapsed": true
   },
   "outputs": [],
   "source": [
    "#Stock Data for Apple\n",
    "df_1 = pd.read_csv(\"APPLE_for_tweet.csv\")\n",
    "#Twitter data for Apple\n",
    "df_2 = pd.read_csv(\"SampleTweets.csv\")"
   ]
  },
  {
   "cell_type": "code",
   "execution_count": 3,
   "metadata": {},
   "outputs": [
    {
     "data": {
      "text/html": [
       "<div>\n",
       "<style scoped>\n",
       "    .dataframe tbody tr th:only-of-type {\n",
       "        vertical-align: middle;\n",
       "    }\n",
       "\n",
       "    .dataframe tbody tr th {\n",
       "        vertical-align: top;\n",
       "    }\n",
       "\n",
       "    .dataframe thead th {\n",
       "        text-align: right;\n",
       "    }\n",
       "</style>\n",
       "<table border=\"1\" class=\"dataframe\">\n",
       "  <thead>\n",
       "    <tr style=\"text-align: right;\">\n",
       "      <th></th>\n",
       "      <th>date</th>\n",
       "      <th>close</th>\n",
       "      <th>volume</th>\n",
       "      <th>open</th>\n",
       "      <th>high</th>\n",
       "      <th>low</th>\n",
       "    </tr>\n",
       "  </thead>\n",
       "  <tbody>\n",
       "    <tr>\n",
       "      <th>0</th>\n",
       "      <td>19-05-2017</td>\n",
       "      <td>153.06</td>\n",
       "      <td>26892850</td>\n",
       "      <td>153.38</td>\n",
       "      <td>153.98</td>\n",
       "      <td>152.63</td>\n",
       "    </tr>\n",
       "    <tr>\n",
       "      <th>1</th>\n",
       "      <td>18-05-2017</td>\n",
       "      <td>152.54</td>\n",
       "      <td>33520150</td>\n",
       "      <td>151.27</td>\n",
       "      <td>153.34</td>\n",
       "      <td>151.13</td>\n",
       "    </tr>\n",
       "    <tr>\n",
       "      <th>2</th>\n",
       "      <td>17-05-2017</td>\n",
       "      <td>150.25</td>\n",
       "      <td>50674280</td>\n",
       "      <td>153.60</td>\n",
       "      <td>154.57</td>\n",
       "      <td>149.71</td>\n",
       "    </tr>\n",
       "    <tr>\n",
       "      <th>3</th>\n",
       "      <td>16-05-2017</td>\n",
       "      <td>155.47</td>\n",
       "      <td>19994270</td>\n",
       "      <td>155.94</td>\n",
       "      <td>156.06</td>\n",
       "      <td>154.72</td>\n",
       "    </tr>\n",
       "    <tr>\n",
       "      <th>4</th>\n",
       "      <td>15-05-2017</td>\n",
       "      <td>155.70</td>\n",
       "      <td>25912270</td>\n",
       "      <td>156.01</td>\n",
       "      <td>156.65</td>\n",
       "      <td>155.05</td>\n",
       "    </tr>\n",
       "  </tbody>\n",
       "</table>\n",
       "</div>"
      ],
      "text/plain": [
       "         date   close    volume    open    high     low\n",
       "0  19-05-2017  153.06  26892850  153.38  153.98  152.63\n",
       "1  18-05-2017  152.54  33520150  151.27  153.34  151.13\n",
       "2  17-05-2017  150.25  50674280  153.60  154.57  149.71\n",
       "3  16-05-2017  155.47  19994270  155.94  156.06  154.72\n",
       "4  15-05-2017  155.70  25912270  156.01  156.65  155.05"
      ]
     },
     "execution_count": 3,
     "metadata": {},
     "output_type": "execute_result"
    }
   ],
   "source": [
    "df_1.head()"
   ]
  },
  {
   "cell_type": "code",
   "execution_count": 4,
   "metadata": {},
   "outputs": [
    {
     "data": {
      "text/html": [
       "<div>\n",
       "<style scoped>\n",
       "    .dataframe tbody tr th:only-of-type {\n",
       "        vertical-align: middle;\n",
       "    }\n",
       "\n",
       "    .dataframe tbody tr th {\n",
       "        vertical-align: top;\n",
       "    }\n",
       "\n",
       "    .dataframe thead th {\n",
       "        text-align: right;\n",
       "    }\n",
       "</style>\n",
       "<table border=\"1\" class=\"dataframe\">\n",
       "  <thead>\n",
       "    <tr style=\"text-align: right;\">\n",
       "      <th></th>\n",
       "      <th>sentiment</th>\n",
       "      <th>date</th>\n",
       "      <th>tweets</th>\n",
       "      <th>weights</th>\n",
       "    </tr>\n",
       "  </thead>\n",
       "  <tbody>\n",
       "    <tr>\n",
       "      <th>0</th>\n",
       "      <td>|neutral|</td>\n",
       "      <td>19-05-2017</td>\n",
       "      <td>RT @Sandro_power: $AAPL $BABA will hold these...</td>\n",
       "      <td>0.0</td>\n",
       "    </tr>\n",
       "    <tr>\n",
       "      <th>1</th>\n",
       "      <td>NaN</td>\n",
       "      <td>NaN</td>\n",
       "      <td>NaN</td>\n",
       "      <td>NaN</td>\n",
       "    </tr>\n",
       "    <tr>\n",
       "      <th>2</th>\n",
       "      <td>|positive|</td>\n",
       "      <td>19-05-2017</td>\n",
       "      <td>RT @mytradingbuddy: #Stocks #Traders LEARN Th...</td>\n",
       "      <td>2.0</td>\n",
       "    </tr>\n",
       "    <tr>\n",
       "      <th>3</th>\n",
       "      <td>NaN</td>\n",
       "      <td>NaN</td>\n",
       "      <td>NaN</td>\n",
       "      <td>NaN</td>\n",
       "    </tr>\n",
       "    <tr>\n",
       "      <th>4</th>\n",
       "      <td>|neutral|</td>\n",
       "      <td>19-05-2017</td>\n",
       "      <td>Apple’s $AAPL Nokia Suit More Pressing Than Q...</td>\n",
       "      <td>0.0</td>\n",
       "    </tr>\n",
       "  </tbody>\n",
       "</table>\n",
       "</div>"
      ],
      "text/plain": [
       "    sentiment        date                                             tweets  \\\n",
       "0   |neutral|  19-05-2017   RT @Sandro_power: $AAPL $BABA will hold these...   \n",
       "1         NaN         NaN                                                NaN   \n",
       "2  |positive|  19-05-2017   RT @mytradingbuddy: #Stocks #Traders LEARN Th...   \n",
       "3         NaN         NaN                                                NaN   \n",
       "4   |neutral|  19-05-2017   Apple’s $AAPL Nokia Suit More Pressing Than Q...   \n",
       "\n",
       "   weights  \n",
       "0      0.0  \n",
       "1      NaN  \n",
       "2      2.0  \n",
       "3      NaN  \n",
       "4      0.0  "
      ]
     },
     "execution_count": 4,
     "metadata": {},
     "output_type": "execute_result"
    }
   ],
   "source": [
    "df_2.head()"
   ]
  },
  {
   "cell_type": "markdown",
   "metadata": {},
   "source": [
    "The twitter dataframe had multiple NaN values while extracting it from csv. Hence removing the NaN values."
   ]
  },
  {
   "cell_type": "code",
   "execution_count": 5,
   "metadata": {},
   "outputs": [
    {
     "data": {
      "text/html": [
       "<div>\n",
       "<style scoped>\n",
       "    .dataframe tbody tr th:only-of-type {\n",
       "        vertical-align: middle;\n",
       "    }\n",
       "\n",
       "    .dataframe tbody tr th {\n",
       "        vertical-align: top;\n",
       "    }\n",
       "\n",
       "    .dataframe thead th {\n",
       "        text-align: right;\n",
       "    }\n",
       "</style>\n",
       "<table border=\"1\" class=\"dataframe\">\n",
       "  <thead>\n",
       "    <tr style=\"text-align: right;\">\n",
       "      <th></th>\n",
       "      <th>sentiment</th>\n",
       "      <th>date</th>\n",
       "      <th>tweets</th>\n",
       "      <th>weights</th>\n",
       "    </tr>\n",
       "  </thead>\n",
       "  <tbody>\n",
       "    <tr>\n",
       "      <th>0</th>\n",
       "      <td>|neutral|</td>\n",
       "      <td>19-05-2017</td>\n",
       "      <td>RT @Sandro_power: $AAPL $BABA will hold these...</td>\n",
       "      <td>0.0</td>\n",
       "    </tr>\n",
       "    <tr>\n",
       "      <th>2</th>\n",
       "      <td>|positive|</td>\n",
       "      <td>19-05-2017</td>\n",
       "      <td>RT @mytradingbuddy: #Stocks #Traders LEARN Th...</td>\n",
       "      <td>2.0</td>\n",
       "    </tr>\n",
       "    <tr>\n",
       "      <th>4</th>\n",
       "      <td>|neutral|</td>\n",
       "      <td>19-05-2017</td>\n",
       "      <td>Apple’s $AAPL Nokia Suit More Pressing Than Q...</td>\n",
       "      <td>0.0</td>\n",
       "    </tr>\n",
       "    <tr>\n",
       "      <th>6</th>\n",
       "      <td>|positive|</td>\n",
       "      <td>19-05-2017</td>\n",
       "      <td>#validate #organic #strategies at https://t.c...</td>\n",
       "      <td>5.0</td>\n",
       "    </tr>\n",
       "    <tr>\n",
       "      <th>8</th>\n",
       "      <td>|neutral|</td>\n",
       "      <td>19-05-2017</td>\n",
       "      <td>RT @kirillklip: InvestorIntel: International ...</td>\n",
       "      <td>0.0</td>\n",
       "    </tr>\n",
       "  </tbody>\n",
       "</table>\n",
       "</div>"
      ],
      "text/plain": [
       "    sentiment        date                                             tweets  \\\n",
       "0   |neutral|  19-05-2017   RT @Sandro_power: $AAPL $BABA will hold these...   \n",
       "2  |positive|  19-05-2017   RT @mytradingbuddy: #Stocks #Traders LEARN Th...   \n",
       "4   |neutral|  19-05-2017   Apple’s $AAPL Nokia Suit More Pressing Than Q...   \n",
       "6  |positive|  19-05-2017   #validate #organic #strategies at https://t.c...   \n",
       "8   |neutral|  19-05-2017   RT @kirillklip: InvestorIntel: International ...   \n",
       "\n",
       "   weights  \n",
       "0      0.0  \n",
       "2      2.0  \n",
       "4      0.0  \n",
       "6      5.0  \n",
       "8      0.0  "
      ]
     },
     "execution_count": 5,
     "metadata": {},
     "output_type": "execute_result"
    }
   ],
   "source": [
    "df_2 = df_2.dropna()\n",
    "df_2.head()"
   ]
  },
  {
   "cell_type": "code",
   "execution_count": 6,
   "metadata": {},
   "outputs": [
    {
     "name": "stdout",
     "output_type": "stream",
     "text": [
      "<class 'pandas.core.frame.DataFrame'>\n",
      "Int64Index: 489 entries, 0 to 976\n",
      "Data columns (total 4 columns):\n",
      "sentiment    489 non-null object\n",
      "date         489 non-null object\n",
      "tweets       489 non-null object\n",
      "weights      489 non-null float64\n",
      "dtypes: float64(1), object(3)\n",
      "memory usage: 19.1+ KB\n"
     ]
    }
   ],
   "source": [
    "df_2.info()"
   ]
  },
  {
   "cell_type": "markdown",
   "metadata": {},
   "source": [
    "Changing the datatype of \"date\" column in both dataset."
   ]
  },
  {
   "cell_type": "code",
   "execution_count": 6,
   "metadata": {
    "collapsed": true
   },
   "outputs": [],
   "source": [
    "df_1['date'] = pd.to_datetime(df_1['date'])\n",
    "df_2['date'] = pd.to_datetime(df_2['date'])"
   ]
  },
  {
   "cell_type": "markdown",
   "metadata": {},
   "source": [
    "For particular gien date there were number of tweets along with its measure. But we can correlate the sentiment measure with the stock data only with one dominant value. Hence segregating all the dates as different dataset and calculating the mean value to fix a single value for a particular date. This value later will be assigned to the stock dataframe with corresponding dates."
   ]
  },
  {
   "cell_type": "code",
   "execution_count": 7,
   "metadata": {
    "collapsed": true,
    "scrolled": true
   },
   "outputs": [],
   "source": [
    "df_19 = df_2[df_2['date'] == '19-05-2017']\n",
    "df_18 = df_2[df_2['date'] == '18-05-2017']\n",
    "df_17 = df_2[df_2['date'] == '17-05-2017']\n",
    "df_16 = df_2[df_2['date'] == '16-05-2017']\n",
    "df_15 = df_2[df_2['date'] == '15-05-2017']"
   ]
  },
  {
   "cell_type": "markdown",
   "metadata": {},
   "source": [
    "The sentiment measures distribution illustrates, the variance in the sentiment values even when its analysis states a particular class such positive."
   ]
  },
  {
   "cell_type": "code",
   "execution_count": 9,
   "metadata": {},
   "outputs": [
    {
     "data": {
      "text/plain": [
       "array([[<matplotlib.axes._subplots.AxesSubplot object at 0x0000013F093AB780>]],\n",
       "      dtype=object)"
      ]
     },
     "execution_count": 9,
     "metadata": {},
     "output_type": "execute_result"
    },
    {
     "data": {
      "image/png": "[encoded data removed]",
      "text/plain": [
       "<matplotlib.figure.Figure at 0x13f093ab7f0>"
      ]
     },
     "metadata": {},
     "output_type": "display_data"
    }
   ],
   "source": [
    "df_19.hist(column='weights', figsize = (5,5))"
   ]
  },
  {
   "cell_type": "code",
   "execution_count": 10,
   "metadata": {},
   "outputs": [
    {
     "data": {
      "text/plain": [
       "array([[<matplotlib.axes._subplots.AxesSubplot object at 0x0000013F0B420C50>]],\n",
       "      dtype=object)"
      ]
     },
     "execution_count": 10,
     "metadata": {},
     "output_type": "execute_result"
    },
    {
     "data": {
      "image/png": "[encoded data removed]",
      "text/plain": [
       "<matplotlib.figure.Figure at 0x13f0b444320>"
      ]
     },
     "metadata": {},
     "output_type": "display_data"
    }
   ],
   "source": [
    "df_18.hist(column='weights', figsize = (5,5))"
   ]
  },
  {
   "cell_type": "code",
   "execution_count": 11,
   "metadata": {},
   "outputs": [
    {
     "data": {
      "text/plain": [
       "array([[<matplotlib.axes._subplots.AxesSubplot object at 0x0000013F093996D8>]],\n",
       "      dtype=object)"
      ]
     },
     "execution_count": 11,
     "metadata": {},
     "output_type": "execute_result"
    },
    {
     "data": {
      "image/png": "[encoded data removed]",
      "text/plain": [
       "<matplotlib.figure.Figure at 0x13f0b5fe518>"
      ]
     },
     "metadata": {},
     "output_type": "display_data"
    }
   ],
   "source": [
    "df_17.hist(column='weights', figsize = (5,5))"
   ]
  },
  {
   "cell_type": "code",
   "execution_count": 12,
   "metadata": {},
   "outputs": [
    {
     "data": {
      "text/plain": [
       "array([[<matplotlib.axes._subplots.AxesSubplot object at 0x0000013F0B648208>]],\n",
       "      dtype=object)"
      ]
     },
     "execution_count": 12,
     "metadata": {},
     "output_type": "execute_result"
    },
    {
     "data": {
      "image/png": "[encoded data removed]",
      "text/plain": [
       "<matplotlib.figure.Figure at 0x13f0b66e198>"
      ]
     },
     "metadata": {},
     "output_type": "display_data"
    }
   ],
   "source": [
    "df_16.hist(column='weights', figsize = (5,5))"
   ]
  },
  {
   "cell_type": "code",
   "execution_count": 13,
   "metadata": {},
   "outputs": [
    {
     "data": {
      "text/plain": [
       "array([[<matplotlib.axes._subplots.AxesSubplot object at 0x0000013F0B6D3048>]],\n",
       "      dtype=object)"
      ]
     },
     "execution_count": 13,
     "metadata": {},
     "output_type": "execute_result"
    },
    {
     "data": {
      "image/png": "[encoded data removed]",
      "text/plain": [
       "<matplotlib.figure.Figure at 0x13f0b736710>"
      ]
     },
     "metadata": {},
     "output_type": "display_data"
    }
   ],
   "source": [
    "df_15.hist(column='weights', figsize = (5,5))"
   ]
  },
  {
   "cell_type": "code",
   "execution_count": 14,
   "metadata": {
    "collapsed": true
   },
   "outputs": [],
   "source": [
    "x = [df_19.weights.mean(),df_18.weights.mean(), df_17.weights.mean(), df_16.weights.mean(),df_15.weights.mean()]\n",
    "\n",
    "data = [float(Decimal(\"%.2f\" % e)) for e in x]\n",
    "\n",
    "df_1['weights'] = data"
   ]
  },
  {
   "cell_type": "code",
   "execution_count": 15,
   "metadata": {
    "collapsed": true
   },
   "outputs": [],
   "source": [
    "df_1 = df_1.set_index(['date'])\n",
    "df_1 = df_1.rename(columns={'open':'prevday_open'})\n",
    "df_1['open'] = df_1['prevday_open']\n",
    "df_1.prevday_open = df_1.prevday_open.shift(-1)\n",
    "df_1 = df_1.fillna(df_1.mean()['prevday_open'])"
   ]
  },
  {
   "cell_type": "markdown",
   "metadata": {},
   "source": [
    "The same data cleaning steps followed from **LSTM.ipybn**."
   ]
  },
  {
   "cell_type": "code",
   "execution_count": 2,
   "metadata": {},
   "outputs": [],
   "source": [
    "df = pd.read_csv(\"APPL_PrevOpenPrice.csv\")"
   ]
  },
  {
   "cell_type": "code",
   "execution_count": 3,
   "metadata": {},
   "outputs": [],
   "source": [
    "df_nopreopen = pd.read_csv(\"APPL_NoPrevOpenPrice.csv\")"
   ]
  },
  {
   "cell_type": "code",
   "execution_count": 9,
   "metadata": {},
   "outputs": [
    {
     "data": {
      "text/html": [
       "<div>\n",
       "<style scoped>\n",
       "    .dataframe tbody tr th:only-of-type {\n",
       "        vertical-align: middle;\n",
       "    }\n",
       "\n",
       "    .dataframe tbody tr th {\n",
       "        vertical-align: top;\n",
       "    }\n",
       "\n",
       "    .dataframe thead th {\n",
       "        text-align: right;\n",
       "    }\n",
       "</style>\n",
       "<table border=\"1\" class=\"dataframe\">\n",
       "  <thead>\n",
       "    <tr style=\"text-align: right;\">\n",
       "      <th></th>\n",
       "      <th>close</th>\n",
       "      <th>volume</th>\n",
       "      <th>prevday_open</th>\n",
       "      <th>high</th>\n",
       "      <th>low</th>\n",
       "      <th>open</th>\n",
       "    </tr>\n",
       "    <tr>\n",
       "      <th>date</th>\n",
       "      <th></th>\n",
       "      <th></th>\n",
       "      <th></th>\n",
       "      <th></th>\n",
       "      <th></th>\n",
       "      <th></th>\n",
       "    </tr>\n",
       "  </thead>\n",
       "  <tbody>\n",
       "    <tr>\n",
       "      <th>2018-04-17</th>\n",
       "      <td>178.24</td>\n",
       "      <td>26575010.0</td>\n",
       "      <td>175.0301</td>\n",
       "      <td>178.9365</td>\n",
       "      <td>176.4100</td>\n",
       "      <td>177.8100</td>\n",
       "    </tr>\n",
       "    <tr>\n",
       "      <th>2018-04-16</th>\n",
       "      <td>175.82</td>\n",
       "      <td>21561320.0</td>\n",
       "      <td>174.7800</td>\n",
       "      <td>176.1900</td>\n",
       "      <td>174.8301</td>\n",
       "      <td>176.4900</td>\n",
       "    </tr>\n",
       "    <tr>\n",
       "      <th>2018-04-13</th>\n",
       "      <td>174.73</td>\n",
       "      <td>25100510.0</td>\n",
       "      <td>173.4100</td>\n",
       "      <td>175.8400</td>\n",
       "      <td>173.8500</td>\n",
       "      <td>175.0301</td>\n",
       "    </tr>\n",
       "    <tr>\n",
       "      <th>2018-04-12</th>\n",
       "      <td>174.14</td>\n",
       "      <td>22858840.0</td>\n",
       "      <td>172.2300</td>\n",
       "      <td>175.0000</td>\n",
       "      <td>173.0400</td>\n",
       "      <td>174.7800</td>\n",
       "    </tr>\n",
       "    <tr>\n",
       "      <th>2018-04-11</th>\n",
       "      <td>172.44</td>\n",
       "      <td>22401040.0</td>\n",
       "      <td>173.0000</td>\n",
       "      <td>173.9232</td>\n",
       "      <td>171.7000</td>\n",
       "      <td>173.4100</td>\n",
       "    </tr>\n",
       "  </tbody>\n",
       "</table>\n",
       "</div>"
      ],
      "text/plain": [
       "             close      volume  prevday_open      high       low      open\n",
       "date                                                                      \n",
       "2018-04-17  178.24  26575010.0      175.0301  178.9365  176.4100  177.8100\n",
       "2018-04-16  175.82  21561320.0      174.7800  176.1900  174.8301  176.4900\n",
       "2018-04-13  174.73  25100510.0      173.4100  175.8400  173.8500  175.0301\n",
       "2018-04-12  174.14  22858840.0      172.2300  175.0000  173.0400  174.7800\n",
       "2018-04-11  172.44  22401040.0      173.0000  173.9232  171.7000  173.4100"
      ]
     },
     "execution_count": 9,
     "metadata": {},
     "output_type": "execute_result"
    }
   ],
   "source": [
    "df.head()"
   ]
  },
  {
   "cell_type": "code",
   "execution_count": 10,
   "metadata": {},
   "outputs": [
    {
     "data": {
      "text/html": [
       "<div>\n",
       "<style scoped>\n",
       "    .dataframe tbody tr th:only-of-type {\n",
       "        vertical-align: middle;\n",
       "    }\n",
       "\n",
       "    .dataframe tbody tr th {\n",
       "        vertical-align: top;\n",
       "    }\n",
       "\n",
       "    .dataframe thead th {\n",
       "        text-align: right;\n",
       "    }\n",
       "</style>\n",
       "<table border=\"1\" class=\"dataframe\">\n",
       "  <thead>\n",
       "    <tr style=\"text-align: right;\">\n",
       "      <th></th>\n",
       "      <th>close</th>\n",
       "      <th>volume</th>\n",
       "      <th>high</th>\n",
       "      <th>low</th>\n",
       "      <th>open</th>\n",
       "    </tr>\n",
       "    <tr>\n",
       "      <th>date</th>\n",
       "      <th></th>\n",
       "      <th></th>\n",
       "      <th></th>\n",
       "      <th></th>\n",
       "      <th></th>\n",
       "    </tr>\n",
       "  </thead>\n",
       "  <tbody>\n",
       "    <tr>\n",
       "      <th>2018-04-17</th>\n",
       "      <td>178.24</td>\n",
       "      <td>26575010.0</td>\n",
       "      <td>178.9365</td>\n",
       "      <td>176.4100</td>\n",
       "      <td>177.8100</td>\n",
       "    </tr>\n",
       "    <tr>\n",
       "      <th>2018-04-16</th>\n",
       "      <td>175.82</td>\n",
       "      <td>21561320.0</td>\n",
       "      <td>176.1900</td>\n",
       "      <td>174.8301</td>\n",
       "      <td>176.4900</td>\n",
       "    </tr>\n",
       "    <tr>\n",
       "      <th>2018-04-13</th>\n",
       "      <td>174.73</td>\n",
       "      <td>25100510.0</td>\n",
       "      <td>175.8400</td>\n",
       "      <td>173.8500</td>\n",
       "      <td>175.0301</td>\n",
       "    </tr>\n",
       "    <tr>\n",
       "      <th>2018-04-12</th>\n",
       "      <td>174.14</td>\n",
       "      <td>22858840.0</td>\n",
       "      <td>175.0000</td>\n",
       "      <td>173.0400</td>\n",
       "      <td>174.7800</td>\n",
       "    </tr>\n",
       "    <tr>\n",
       "      <th>2018-04-11</th>\n",
       "      <td>172.44</td>\n",
       "      <td>22401040.0</td>\n",
       "      <td>173.9232</td>\n",
       "      <td>171.7000</td>\n",
       "      <td>173.4100</td>\n",
       "    </tr>\n",
       "  </tbody>\n",
       "</table>\n",
       "</div>"
      ],
      "text/plain": [
       "             close      volume      high       low      open\n",
       "date                                                        \n",
       "2018-04-17  178.24  26575010.0  178.9365  176.4100  177.8100\n",
       "2018-04-16  175.82  21561320.0  176.1900  174.8301  176.4900\n",
       "2018-04-13  174.73  25100510.0  175.8400  173.8500  175.0301\n",
       "2018-04-12  174.14  22858840.0  175.0000  173.0400  174.7800\n",
       "2018-04-11  172.44  22401040.0  173.9232  171.7000  173.4100"
      ]
     },
     "execution_count": 10,
     "metadata": {},
     "output_type": "execute_result"
    }
   ],
   "source": [
    "df_nopreopen.head()"
   ]
  },
  {
   "cell_type": "code",
   "execution_count": 5,
   "metadata": {},
   "outputs": [],
   "source": [
    "df = df.reset_index(drop=True)\n",
    "df = df.drop(df.index[0])"
   ]
  },
  {
   "cell_type": "code",
   "execution_count": 6,
   "metadata": {},
   "outputs": [],
   "source": [
    "df_nopreopen = df_nopreopen.reset_index(drop=True)\n",
    "df_nopreopen = df_nopreopen.drop(df_nopreopen.index[0])"
   ]
  },
  {
   "cell_type": "code",
   "execution_count": 7,
   "metadata": {},
   "outputs": [],
   "source": [
    "df['date'] = pd.to_datetime(df['date'])\n",
    "df = df.set_index(['date'])"
   ]
  },
  {
   "cell_type": "code",
   "execution_count": 8,
   "metadata": {},
   "outputs": [],
   "source": [
    "df_nopreopen['date'] = pd.to_datetime(df_nopreopen['date'])\n",
    "df_nopreopen = df_nopreopen.set_index(['date'])"
   ]
  },
  {
   "cell_type": "code",
   "execution_count": 54,
   "metadata": {},
   "outputs": [],
   "source": [
    "size= len(df)"
   ]
  },
  {
   "cell_type": "code",
   "execution_count": 55,
   "metadata": {},
   "outputs": [],
   "source": [
    "df['weights'] = np.random.random((size,1))\n",
    "df_nopreopen['weights'] = df['weights']"
   ]
  },
  {
   "cell_type": "code",
   "execution_count": 22,
   "metadata": {},
   "outputs": [],
   "source": [
    "df = df.rename(columns={'open':'prevday_open'})\n",
    "df['open'] = df['prevday_open']\n",
    "df.prevday_open = df.prevday_open.shift(-1)\n",
    "df = df.fillna(df.mean()['prevday_open'])\n",
    "old_df = df"
   ]
  },
  {
   "cell_type": "code",
   "execution_count": 56,
   "metadata": {},
   "outputs": [],
   "source": [
    "arrange = df_nopreopen.columns.tolist()\n",
    "arrange.remove('open')\n",
    "arrange.append('open')\n",
    "df_nopreopen = df_nopreopen[arrange]\n",
    "old_df_nopreopen = df_nopreopen"
   ]
  },
  {
   "cell_type": "code",
   "execution_count": 57,
   "metadata": {},
   "outputs": [],
   "source": [
    "arrange = df.columns.tolist()\n",
    "arrange.remove('open')\n",
    "arrange.append('open')\n",
    "df = df[arrange]\n",
    "old_df = df"
   ]
  },
  {
   "cell_type": "code",
   "execution_count": 14,
   "metadata": {},
   "outputs": [
    {
     "name": "stdout",
     "output_type": "stream",
     "text": [
      "<class 'pandas.core.frame.DataFrame'>\n",
      "DatetimeIndex: 1260 entries, 2018-04-18 to 2013-04-18\n",
      "Data columns (total 7 columns):\n",
      "close           1260 non-null float64\n",
      "volume          1260 non-null object\n",
      "prevday_open    1260 non-null float64\n",
      "high            1260 non-null float64\n",
      "low             1260 non-null float64\n",
      "weights         1260 non-null float64\n",
      "open            1260 non-null float64\n",
      "dtypes: float64(6), object(1)\n",
      "memory usage: 78.8+ KB\n"
     ]
    }
   ],
   "source": [
    "df.info()"
   ]
  },
  {
   "cell_type": "markdown",
   "metadata": {},
   "source": [
    "Now the datasets are ready to for normalisation"
   ]
  },
  {
   "cell_type": "markdown",
   "metadata": {},
   "source": [
    "### Prediction Model"
   ]
  },
  {
   "cell_type": "code",
   "execution_count": 58,
   "metadata": {},
   "outputs": [
    {
     "data": {
      "text/html": [
       "<div>\n",
       "<style scoped>\n",
       "    .dataframe tbody tr th:only-of-type {\n",
       "        vertical-align: middle;\n",
       "    }\n",
       "\n",
       "    .dataframe tbody tr th {\n",
       "        vertical-align: top;\n",
       "    }\n",
       "\n",
       "    .dataframe thead th {\n",
       "        text-align: right;\n",
       "    }\n",
       "</style>\n",
       "<table border=\"1\" class=\"dataframe\">\n",
       "  <thead>\n",
       "    <tr style=\"text-align: right;\">\n",
       "      <th></th>\n",
       "      <th>close</th>\n",
       "      <th>volume</th>\n",
       "      <th>prevday_open</th>\n",
       "      <th>high</th>\n",
       "      <th>low</th>\n",
       "      <th>weights</th>\n",
       "      <th>open</th>\n",
       "    </tr>\n",
       "    <tr>\n",
       "      <th>date</th>\n",
       "      <th></th>\n",
       "      <th></th>\n",
       "      <th></th>\n",
       "      <th></th>\n",
       "      <th></th>\n",
       "      <th></th>\n",
       "      <th></th>\n",
       "    </tr>\n",
       "  </thead>\n",
       "  <tbody>\n",
       "    <tr>\n",
       "      <th>2018-04-17</th>\n",
       "      <td>0.972366</td>\n",
       "      <td>0.059252</td>\n",
       "      <td>0.940551</td>\n",
       "      <td>0.963900</td>\n",
       "      <td>0.969648</td>\n",
       "      <td>0.251099</td>\n",
       "      <td>0.962411</td>\n",
       "    </tr>\n",
       "    <tr>\n",
       "      <th>2018-04-16</th>\n",
       "      <td>0.953149</td>\n",
       "      <td>0.039577</td>\n",
       "      <td>0.938584</td>\n",
       "      <td>0.942174</td>\n",
       "      <td>0.957028</td>\n",
       "      <td>0.339892</td>\n",
       "      <td>0.952031</td>\n",
       "    </tr>\n",
       "    <tr>\n",
       "      <th>2018-04-13</th>\n",
       "      <td>0.944493</td>\n",
       "      <td>0.053466</td>\n",
       "      <td>0.927811</td>\n",
       "      <td>0.939406</td>\n",
       "      <td>0.949200</td>\n",
       "      <td>0.496003</td>\n",
       "      <td>0.940551</td>\n",
       "    </tr>\n",
       "    <tr>\n",
       "      <th>2018-04-12</th>\n",
       "      <td>0.939808</td>\n",
       "      <td>0.044669</td>\n",
       "      <td>0.918531</td>\n",
       "      <td>0.932761</td>\n",
       "      <td>0.942730</td>\n",
       "      <td>0.504319</td>\n",
       "      <td>0.938584</td>\n",
       "    </tr>\n",
       "    <tr>\n",
       "      <th>2018-04-11</th>\n",
       "      <td>0.926308</td>\n",
       "      <td>0.042873</td>\n",
       "      <td>0.924587</td>\n",
       "      <td>0.924243</td>\n",
       "      <td>0.932026</td>\n",
       "      <td>0.985406</td>\n",
       "      <td>0.927811</td>\n",
       "    </tr>\n",
       "  </tbody>\n",
       "</table>\n",
       "</div>"
      ],
      "text/plain": [
       "               close    volume  prevday_open      high       low   weights  \\\n",
       "date                                                                         \n",
       "2018-04-17  0.972366  0.059252      0.940551  0.963900  0.969648  0.251099   \n",
       "2018-04-16  0.953149  0.039577      0.938584  0.942174  0.957028  0.339892   \n",
       "2018-04-13  0.944493  0.053466      0.927811  0.939406  0.949200  0.496003   \n",
       "2018-04-12  0.939808  0.044669      0.918531  0.932761  0.942730  0.504319   \n",
       "2018-04-11  0.926308  0.042873      0.924587  0.924243  0.932026  0.985406   \n",
       "\n",
       "                open  \n",
       "date                  \n",
       "2018-04-17  0.962411  \n",
       "2018-04-16  0.952031  \n",
       "2018-04-13  0.940551  \n",
       "2018-04-12  0.938584  \n",
       "2018-04-11  0.927811  "
      ]
     },
     "execution_count": 58,
     "metadata": {},
     "output_type": "execute_result"
    }
   ],
   "source": [
    "from sklearn import preprocessing\n",
    "def normalize_data(df):\n",
    "    min_max_scaler = preprocessing.MinMaxScaler()\n",
    "    df['close'] = min_max_scaler.fit_transform(df.close.values.reshape(-1,1))\n",
    "    df['high'] = min_max_scaler.fit_transform(df.high.values.reshape(-1,1))\n",
    "    df['low'] = min_max_scaler.fit_transform(df.low.values.reshape(-1,1))\n",
    "    df['volume'] = min_max_scaler.fit_transform(df.volume.values.reshape(-1,1))\n",
    "    df['prevday_open'] = min_max_scaler.fit_transform(df.prevday_open.values.reshape(-1,1))\n",
    "    df['open'] = min_max_scaler.fit_transform(df['open'].values.reshape(-1,1))\n",
    "    return df\n",
    "df = normalize_data(df)\n",
    "df.head()"
   ]
  },
  {
   "cell_type": "code",
   "execution_count": 59,
   "metadata": {},
   "outputs": [
    {
     "data": {
      "text/html": [
       "<div>\n",
       "<style scoped>\n",
       "    .dataframe tbody tr th:only-of-type {\n",
       "        vertical-align: middle;\n",
       "    }\n",
       "\n",
       "    .dataframe tbody tr th {\n",
       "        vertical-align: top;\n",
       "    }\n",
       "\n",
       "    .dataframe thead th {\n",
       "        text-align: right;\n",
       "    }\n",
       "</style>\n",
       "<table border=\"1\" class=\"dataframe\">\n",
       "  <thead>\n",
       "    <tr style=\"text-align: right;\">\n",
       "      <th></th>\n",
       "      <th>close</th>\n",
       "      <th>volume</th>\n",
       "      <th>high</th>\n",
       "      <th>low</th>\n",
       "      <th>weights</th>\n",
       "      <th>open</th>\n",
       "    </tr>\n",
       "    <tr>\n",
       "      <th>date</th>\n",
       "      <th></th>\n",
       "      <th></th>\n",
       "      <th></th>\n",
       "      <th></th>\n",
       "      <th></th>\n",
       "      <th></th>\n",
       "    </tr>\n",
       "  </thead>\n",
       "  <tbody>\n",
       "    <tr>\n",
       "      <th>2018-04-17</th>\n",
       "      <td>0.972366</td>\n",
       "      <td>0.059252</td>\n",
       "      <td>0.963900</td>\n",
       "      <td>0.969648</td>\n",
       "      <td>0.251099</td>\n",
       "      <td>0.962411</td>\n",
       "    </tr>\n",
       "    <tr>\n",
       "      <th>2018-04-16</th>\n",
       "      <td>0.953149</td>\n",
       "      <td>0.039577</td>\n",
       "      <td>0.942174</td>\n",
       "      <td>0.957028</td>\n",
       "      <td>0.339892</td>\n",
       "      <td>0.952031</td>\n",
       "    </tr>\n",
       "    <tr>\n",
       "      <th>2018-04-13</th>\n",
       "      <td>0.944493</td>\n",
       "      <td>0.053466</td>\n",
       "      <td>0.939406</td>\n",
       "      <td>0.949200</td>\n",
       "      <td>0.496003</td>\n",
       "      <td>0.940551</td>\n",
       "    </tr>\n",
       "    <tr>\n",
       "      <th>2018-04-12</th>\n",
       "      <td>0.939808</td>\n",
       "      <td>0.044669</td>\n",
       "      <td>0.932761</td>\n",
       "      <td>0.942730</td>\n",
       "      <td>0.504319</td>\n",
       "      <td>0.938584</td>\n",
       "    </tr>\n",
       "    <tr>\n",
       "      <th>2018-04-11</th>\n",
       "      <td>0.926308</td>\n",
       "      <td>0.042873</td>\n",
       "      <td>0.924243</td>\n",
       "      <td>0.932026</td>\n",
       "      <td>0.985406</td>\n",
       "      <td>0.927811</td>\n",
       "    </tr>\n",
       "  </tbody>\n",
       "</table>\n",
       "</div>"
      ],
      "text/plain": [
       "               close    volume      high       low   weights      open\n",
       "date                                                                  \n",
       "2018-04-17  0.972366  0.059252  0.963900  0.969648  0.251099  0.962411\n",
       "2018-04-16  0.953149  0.039577  0.942174  0.957028  0.339892  0.952031\n",
       "2018-04-13  0.944493  0.053466  0.939406  0.949200  0.496003  0.940551\n",
       "2018-04-12  0.939808  0.044669  0.932761  0.942730  0.504319  0.938584\n",
       "2018-04-11  0.926308  0.042873  0.924243  0.932026  0.985406  0.927811"
      ]
     },
     "execution_count": 59,
     "metadata": {},
     "output_type": "execute_result"
    }
   ],
   "source": [
    "def normalize_data_nopreopen(df):\n",
    "    min_max_scaler = preprocessing.MinMaxScaler()\n",
    "    df['close'] = min_max_scaler.fit_transform(df.close.values.reshape(-1,1))\n",
    "    df['high'] = min_max_scaler.fit_transform(df.high.values.reshape(-1,1))\n",
    "    df['low'] = min_max_scaler.fit_transform(df.low.values.reshape(-1,1))\n",
    "    df['volume'] = min_max_scaler.fit_transform(df.volume.values.reshape(-1,1))\n",
    "    df['open'] = min_max_scaler.fit_transform(df['open'].values.reshape(-1,1))\n",
    "    return df\n",
    "df_nopreopen = normalize_data_nopreopen(df_nopreopen)\n",
    "df_nopreopen.head()"
   ]
  },
  {
   "cell_type": "code",
   "execution_count": 36,
   "metadata": {},
   "outputs": [],
   "source": [
    "def load_data(stock, seq_len):\n",
    "    amount_of_features = len(stock.columns) # 5\n",
    "    data = stock.as_matrix() \n",
    "    sequence_length = seq_len + 1 # index starting from 0\n",
    "    result = []\n",
    "    \n",
    "    for index in range(len(data) - sequence_length): # maxmimum date = lastest date - sequence length\n",
    "        result.append(data[index: index + sequence_length]) # index : index + 22days\n",
    "    \n",
    "    result = np.array(result)\n",
    "    row = round(0.9 * result.shape[0]) # 90% split\n",
    "    train = result[:int(row), :] # 90% date, all features \n",
    "    \n",
    "    x_train = train[:, :-1] \n",
    "    y_train = train[:, -1][:,-1]\n",
    "    \n",
    "    x_test = result[int(row):, :-1] \n",
    "    y_test = result[int(row):, -1][:,-1]\n",
    "\n",
    "    x_train = np.reshape(x_train, (x_train.shape[0], x_train.shape[1], amount_of_features))\n",
    "    x_test = np.reshape(x_test, (x_test.shape[0], x_test.shape[1], amount_of_features))  \n",
    "\n",
    "    return [x_train, y_train, x_test, y_test]"
   ]
  },
  {
   "cell_type": "code",
   "execution_count": 60,
   "metadata": {},
   "outputs": [],
   "source": [
    "def build_model(layers):\n",
    "    d = 0.3\n",
    "    model = Sequential()\n",
    "    \n",
    "    model.add(LSTM(256, input_shape=(layers[1], layers[0]), return_sequences=True))\n",
    "    model.add(Dropout(d))\n",
    "        \n",
    "    model.add(LSTM(256, input_shape=(layers[1], layers[0]), return_sequences=False))\n",
    "    model.add(Dropout(d))\n",
    "        \n",
    "    model.add(Dense(32,kernel_initializer=\"uniform\",activation='relu'))        \n",
    "    model.add(Dense(1,kernel_initializer=\"uniform\",activation='linear'))\n",
    "        \n",
    "    start = time.time()\n",
    "    model.compile(loss='mse',optimizer='adam', metrics=['accuracy'])\n",
    "    print(\"Compilation Time : \", time.time() - start)\n",
    "    return model"
   ]
  },
  {
   "cell_type": "code",
   "execution_count": 61,
   "metadata": {},
   "outputs": [
    {
     "name": "stdout",
     "output_type": "stream",
     "text": [
      "[[0.9723656  0.0592524  0.94055079 0.96390044 0.96964752 0.25109932\n",
      "  0.96241125]\n",
      " [0.95314857 0.0395775  0.93858407 0.94217426 0.95702808 0.33989174\n",
      "  0.95203109]\n",
      " [0.94449297 0.05346612 0.92781072 0.93940559 0.94919953 0.49600295\n",
      "  0.94055079]\n",
      " [0.93980783 0.04466927 0.91853149 0.93276077 0.94272966 0.50431879\n",
      "  0.93858407]\n",
      " [0.92630827 0.04287276 0.92458658 0.92424275 0.93202642 0.98540644\n",
      "  0.92781072]\n",
      " [0.93274041 0.06706987 0.90005166 0.92485027 0.93066855 0.44219918\n",
      "  0.91853149]\n",
      " [0.90732947 0.06867524 0.90862316 0.91765172 0.91720962 0.91310833\n",
      "  0.92458658]\n",
      " [0.89406813 0.09211663 0.92128381 0.91282632 0.90407019 0.34261158\n",
      "  0.90005166]\n",
      " [0.929167   0.05994012 0.86073289 0.92667285 0.93506167 0.64177043\n",
      "  0.90862316]\n",
      " [0.9197173  0.09067314 0.88243685 0.90910838 0.87667308 0.64613474\n",
      "  0.92128381]\n",
      " [0.89414754 0.07362543 0.88432415 0.88328457 0.87755171 0.72805894\n",
      "  0.86073289]\n",
      " [0.88056857 0.10183284 0.88373437 0.88482316 0.87427683 0.45759269\n",
      "  0.88243685]\n",
      " [0.88930358 0.10454312 0.87936999 0.90705165 0.89368644 0.56095571\n",
      "  0.88432415]\n",
      " [0.87898039 0.11768378 0.92993394 0.89336649 0.88002783 0.89396294\n",
      "  0.88373437]\n",
      " [0.8937505  0.11124536 0.88581827 0.93394735 0.89384619 0.42707877\n",
      "  0.87936999]\n",
      " [0.92892877 0.09929355 0.88833467 0.91773083 0.8900122  0.65276357\n",
      "  0.92993394]\n",
      " [0.86675137 0.11579881 0.90099532 0.89257544 0.87803095 0.95649879\n",
      "  0.88581827]\n",
      " [0.89780037 0.11717794 0.94062864 0.91440842 0.90726519 0.68230175\n",
      "  0.88833467]\n",
      " [0.91701739 0.09776043 0.9422014  0.93347272 0.92851192 0.83185027\n",
      "  0.90099532]\n",
      " [0.94854284 0.03196134 0.95855801 0.94699967 0.9579059  0.82565351\n",
      "  0.94062864]] 0.9422013955020891\n"
     ]
    }
   ],
   "source": [
    "window = 20\n",
    "X_train, y_train, X_test, y_test = load_data(df, window)\n",
    "X_train1, y_train1, X_test1, y_test1 = load_data(df_nopreopen, window)\n",
    "print (X_train[0], y_train[0])"
   ]
  },
  {
   "cell_type": "code",
   "execution_count": 62,
   "metadata": {},
   "outputs": [
    {
     "name": "stdout",
     "output_type": "stream",
     "text": [
      "Compilation Time :  0.03709912300109863\n",
      "Compilation Time :  0.023563146591186523\n"
     ]
    }
   ],
   "source": [
    "model = build_model([7,window,1])\n",
    "model1 = build_model([6,window,1])"
   ]
  },
  {
   "cell_type": "code",
   "execution_count": 63,
   "metadata": {
    "scrolled": true
   },
   "outputs": [
    {
     "name": "stdout",
     "output_type": "stream",
     "text": [
      "Train on 1002 samples, validate on 112 samples\n",
      "Epoch 1/100\n",
      "1002/1002 [==============================] - 5s 5ms/step - loss: 0.3130 - acc: 0.0000e+00 - val_loss: 0.0245 - val_acc: 0.0000e+00\n",
      "Epoch 2/100\n",
      "1002/1002 [==============================] - 2s 2ms/step - loss: 0.2816 - acc: 0.0000e+00 - val_loss: 0.0156 - val_acc: 0.0000e+00\n",
      "Epoch 3/100\n",
      "1002/1002 [==============================] - 2s 2ms/step - loss: 0.1826 - acc: 0.0000e+00 - val_loss: 0.0028 - val_acc: 0.0000e+00\n",
      "Epoch 4/100\n",
      "1002/1002 [==============================] - 2s 2ms/step - loss: 0.0494 - acc: 9.9800e-04 - val_loss: 0.1940 - val_acc: 0.0000e+00\n",
      "Epoch 5/100\n",
      "1002/1002 [==============================] - 2s 2ms/step - loss: 0.0622 - acc: 9.9800e-04 - val_loss: 0.2419 - val_acc: 0.0000e+00\n",
      "Epoch 6/100\n",
      "1002/1002 [==============================] - 2s 2ms/step - loss: 0.0557 - acc: 9.9800e-04 - val_loss: 0.1490 - val_acc: 0.0000e+00\n",
      "Epoch 7/100\n",
      "1002/1002 [==============================] - 2s 2ms/step - loss: 0.0410 - acc: 0.0000e+00 - val_loss: 0.0858 - val_acc: 0.0000e+00\n",
      "Epoch 8/100\n",
      "1002/1002 [==============================] - 2s 2ms/step - loss: 0.0476 - acc: 0.0000e+00 - val_loss: 0.0654 - val_acc: 0.0000e+00\n",
      "Epoch 9/100\n",
      "1002/1002 [==============================] - 2s 2ms/step - loss: 0.0510 - acc: 0.0000e+00 - val_loss: 0.0707 - val_acc: 0.0000e+00\n",
      "Epoch 10/100\n",
      "1002/1002 [==============================] - 2s 2ms/step - loss: 0.0473 - acc: 0.0000e+00 - val_loss: 0.0936 - val_acc: 0.0000e+00\n",
      "Epoch 11/100\n",
      "1002/1002 [==============================] - 2s 2ms/step - loss: 0.0418 - acc: 0.0000e+00 - val_loss: 0.1293 - val_acc: 0.0000e+00\n",
      "Epoch 12/100\n",
      "1002/1002 [==============================] - 2s 2ms/step - loss: 0.0403 - acc: 9.9800e-04 - val_loss: 0.1619 - val_acc: 0.0000e+00\n",
      "Epoch 13/100\n",
      "1002/1002 [==============================] - 2s 2ms/step - loss: 0.0421 - acc: 9.9800e-04 - val_loss: 0.1704 - val_acc: 0.0000e+00\n",
      "Epoch 14/100\n",
      "1002/1002 [==============================] - 2s 2ms/step - loss: 0.0433 - acc: 9.9800e-04 - val_loss: 0.1530 - val_acc: 0.0000e+00\n",
      "Epoch 15/100\n",
      "1002/1002 [==============================] - 2s 2ms/step - loss: 0.0403 - acc: 9.9800e-04 - val_loss: 0.1267 - val_acc: 0.0000e+00\n",
      "Epoch 16/100\n",
      "1002/1002 [==============================] - 2s 2ms/step - loss: 0.0394 - acc: 9.9800e-04 - val_loss: 0.1071 - val_acc: 0.0000e+00\n",
      "Epoch 17/100\n",
      "1002/1002 [==============================] - 2s 2ms/step - loss: 0.0402 - acc: 9.9800e-04 - val_loss: 0.0980 - val_acc: 0.0000e+00\n",
      "Epoch 18/100\n",
      "1002/1002 [==============================] - 2s 2ms/step - loss: 0.0406 - acc: 0.0000e+00 - val_loss: 0.0998 - val_acc: 0.0000e+00\n",
      "Epoch 19/100\n",
      "1002/1002 [==============================] - 2s 2ms/step - loss: 0.0391 - acc: 9.9800e-04 - val_loss: 0.1091 - val_acc: 0.0000e+00\n",
      "Epoch 20/100\n",
      "1002/1002 [==============================] - 2s 2ms/step - loss: 0.0378 - acc: 9.9800e-04 - val_loss: 0.1213 - val_acc: 0.0000e+00\n",
      "Epoch 21/100\n",
      "1002/1002 [==============================] - 2s 2ms/step - loss: 0.0379 - acc: 9.9800e-04 - val_loss: 0.1276 - val_acc: 0.0000e+00\n",
      "Epoch 22/100\n",
      "1002/1002 [==============================] - 2s 2ms/step - loss: 0.0365 - acc: 9.9800e-04 - val_loss: 0.1218 - val_acc: 0.0000e+00\n",
      "Epoch 23/100\n",
      "1002/1002 [==============================] - 2s 2ms/step - loss: 0.0344 - acc: 9.9800e-04 - val_loss: 0.1095 - val_acc: 0.0000e+00\n",
      "Epoch 24/100\n",
      "1002/1002 [==============================] - 2s 2ms/step - loss: 0.0317 - acc: 9.9800e-04 - val_loss: 0.1002 - val_acc: 0.0000e+00\n",
      "Epoch 25/100\n",
      "1002/1002 [==============================] - 2s 2ms/step - loss: 0.0268 - acc: 9.9800e-04 - val_loss: 0.0914 - val_acc: 0.0000e+00\n",
      "Epoch 26/100\n",
      "1002/1002 [==============================] - 2s 2ms/step - loss: 0.0213 - acc: 9.9800e-04 - val_loss: 0.0796 - val_acc: 0.0000e+00\n",
      "Epoch 27/100\n",
      "1002/1002 [==============================] - 2s 2ms/step - loss: 0.0157 - acc: 9.9800e-04 - val_loss: 0.0720 - val_acc: 0.0000e+00\n",
      "Epoch 28/100\n",
      "1002/1002 [==============================] - 3s 3ms/step - loss: 0.0118 - acc: 9.9800e-04 - val_loss: 0.0651 - val_acc: 0.0000e+00\n",
      "Epoch 29/100\n",
      "1002/1002 [==============================] - 2s 2ms/step - loss: 0.0103 - acc: 9.9800e-04 - val_loss: 0.0579 - val_acc: 0.0000e+00\n",
      "Epoch 30/100\n",
      "1002/1002 [==============================] - 2s 2ms/step - loss: 0.0114 - acc: 9.9800e-04 - val_loss: 0.0509 - val_acc: 0.0000e+00\n",
      "Epoch 31/100\n",
      "1002/1002 [==============================] - 2s 2ms/step - loss: 0.0129 - acc: 9.9800e-04 - val_loss: 0.0502 - val_acc: 0.0000e+00\n",
      "Epoch 32/100\n",
      "1002/1002 [==============================] - 2s 2ms/step - loss: 0.0092 - acc: 9.9800e-04 - val_loss: 0.0510 - val_acc: 0.0000e+00\n",
      "Epoch 33/100\n",
      "1002/1002 [==============================] - 2s 2ms/step - loss: 0.0072 - acc: 9.9800e-04 - val_loss: 0.0414 - val_acc: 0.0000e+00\n",
      "Epoch 34/100\n",
      "1002/1002 [==============================] - 2s 2ms/step - loss: 0.0081 - acc: 9.9800e-04 - val_loss: 0.0348 - val_acc: 0.0000e+00\n",
      "Epoch 35/100\n",
      "1002/1002 [==============================] - 2s 2ms/step - loss: 0.0068 - acc: 9.9800e-04 - val_loss: 0.0119 - val_acc: 0.0000e+00\n",
      "Epoch 36/100\n",
      "1002/1002 [==============================] - 2s 2ms/step - loss: 0.0058 - acc: 9.9800e-04 - val_loss: 0.0025 - val_acc: 0.0000e+00\n",
      "Epoch 37/100\n",
      "1002/1002 [==============================] - 2s 2ms/step - loss: 0.0043 - acc: 9.9800e-04 - val_loss: 0.0102 - val_acc: 0.0000e+00\n",
      "Epoch 38/100\n",
      "1002/1002 [==============================] - 2s 2ms/step - loss: 0.0050 - acc: 9.9800e-04 - val_loss: 0.0011 - val_acc: 0.0000e+00\n",
      "Epoch 39/100\n",
      "1002/1002 [==============================] - 2s 2ms/step - loss: 0.0051 - acc: 9.9800e-04 - val_loss: 0.0010 - val_acc: 0.0000e+00\n",
      "Epoch 40/100\n",
      "1002/1002 [==============================] - 2s 2ms/step - loss: 0.0042 - acc: 9.9800e-04 - val_loss: 0.0011 - val_acc: 0.0000e+00\n",
      "Epoch 41/100\n",
      "1002/1002 [==============================] - 2s 2ms/step - loss: 0.0038 - acc: 9.9800e-04 - val_loss: 0.0069 - val_acc: 0.0000e+00\n",
      "Epoch 42/100\n",
      "1002/1002 [==============================] - 2s 2ms/step - loss: 0.0044 - acc: 9.9800e-04 - val_loss: 0.0031 - val_acc: 0.0000e+00\n",
      "Epoch 43/100\n",
      "1002/1002 [==============================] - 3s 3ms/step - loss: 0.0039 - acc: 9.9800e-04 - val_loss: 0.0040 - val_acc: 0.0000e+00\n",
      "Epoch 44/100\n",
      "1002/1002 [==============================] - 3s 3ms/step - loss: 0.0034 - acc: 9.9800e-04 - val_loss: 8.2094e-04 - val_acc: 0.0000e+00\n",
      "Epoch 45/100\n",
      "1002/1002 [==============================] - 2s 2ms/step - loss: 0.0035 - acc: 9.9800e-04 - val_loss: 0.0013 - val_acc: 0.0000e+00\n",
      "Epoch 46/100\n",
      "1002/1002 [==============================] - 2s 2ms/step - loss: 0.0035 - acc: 9.9800e-04 - val_loss: 0.0015 - val_acc: 0.0000e+00\n",
      "Epoch 47/100\n",
      "1002/1002 [==============================] - 2s 2ms/step - loss: 0.0030 - acc: 9.9800e-04 - val_loss: 8.8850e-04 - val_acc: 0.0000e+00\n",
      "Epoch 48/100\n",
      "1002/1002 [==============================] - 3s 3ms/step - loss: 0.0034 - acc: 9.9800e-04 - val_loss: 0.0012 - val_acc: 0.0000e+00\n",
      "Epoch 49/100\n",
      "1002/1002 [==============================] - 2s 2ms/step - loss: 0.0031 - acc: 9.9800e-04 - val_loss: 0.0012 - val_acc: 0.0000e+00\n",
      "Epoch 50/100\n",
      "1002/1002 [==============================] - 3s 3ms/step - loss: 0.0031 - acc: 9.9800e-04 - val_loss: 0.0019 - val_acc: 0.0000e+00\n",
      "Epoch 51/100\n",
      "1002/1002 [==============================] - 2s 2ms/step - loss: 0.0027 - acc: 9.9800e-04 - val_loss: 0.0013 - val_acc: 0.0000e+00\n",
      "Epoch 52/100\n",
      "1002/1002 [==============================] - 2s 2ms/step - loss: 0.0029 - acc: 9.9800e-04 - val_loss: 0.0016 - val_acc: 0.0000e+00\n",
      "Epoch 53/100\n",
      "1002/1002 [==============================] - 2s 2ms/step - loss: 0.0030 - acc: 9.9800e-04 - val_loss: 9.6746e-04 - val_acc: 0.0000e+00\n",
      "Epoch 54/100\n",
      "1002/1002 [==============================] - 2s 2ms/step - loss: 0.0028 - acc: 9.9800e-04 - val_loss: 8.6585e-04 - val_acc: 0.0000e+00\n",
      "Epoch 55/100\n",
      "1002/1002 [==============================] - 2s 2ms/step - loss: 0.0030 - acc: 9.9800e-04 - val_loss: 9.1967e-04 - val_acc: 0.0000e+00\n",
      "Epoch 56/100\n",
      "1002/1002 [==============================] - 3s 3ms/step - loss: 0.0027 - acc: 9.9800e-04 - val_loss: 0.0011 - val_acc: 0.0000e+00\n",
      "Epoch 57/100\n",
      "1002/1002 [==============================] - 3s 3ms/step - loss: 0.0028 - acc: 9.9800e-04 - val_loss: 0.0013 - val_acc: 0.0000e+00\n",
      "Epoch 58/100\n",
      "1002/1002 [==============================] - 3s 3ms/step - loss: 0.0026 - acc: 9.9800e-04 - val_loss: 8.9772e-04 - val_acc: 0.0000e+00\n",
      "Epoch 59/100\n",
      "1002/1002 [==============================] - 3s 3ms/step - loss: 0.0028 - acc: 9.9800e-04 - val_loss: 0.0012 - val_acc: 0.0000e+00\n",
      "Epoch 60/100\n",
      "1002/1002 [==============================] - 3s 3ms/step - loss: 0.0027 - acc: 9.9800e-04 - val_loss: 0.0025 - val_acc: 0.0000e+00\n",
      "Epoch 61/100\n",
      "1002/1002 [==============================] - 3s 3ms/step - loss: 0.0025 - acc: 9.9800e-04 - val_loss: 0.0023 - val_acc: 0.0000e+00\n",
      "Epoch 62/100\n",
      "1002/1002 [==============================] - 3s 3ms/step - loss: 0.0028 - acc: 9.9800e-04 - val_loss: 0.0028 - val_acc: 0.0000e+00\n",
      "Epoch 63/100\n",
      "1002/1002 [==============================] - 3s 3ms/step - loss: 0.0025 - acc: 9.9800e-04 - val_loss: 0.0016 - val_acc: 0.0000e+00\n",
      "Epoch 64/100\n",
      "1002/1002 [==============================] - 2s 2ms/step - loss: 0.0027 - acc: 9.9800e-04 - val_loss: 0.0025 - val_acc: 0.0000e+00\n",
      "Epoch 65/100\n",
      "1002/1002 [==============================] - 2s 2ms/step - loss: 0.0026 - acc: 9.9800e-04 - val_loss: 0.0031 - val_acc: 0.0000e+00\n",
      "Epoch 66/100\n",
      "1002/1002 [==============================] - 3s 3ms/step - loss: 0.0026 - acc: 9.9800e-04 - val_loss: 0.0014 - val_acc: 0.0000e+00\n",
      "Epoch 67/100\n",
      "1002/1002 [==============================] - 3s 3ms/step - loss: 0.0024 - acc: 9.9800e-04 - val_loss: 0.0024 - val_acc: 0.0000e+00\n",
      "Epoch 68/100\n",
      "1002/1002 [==============================] - 3s 3ms/step - loss: 0.0026 - acc: 9.9800e-04 - val_loss: 0.0021 - val_acc: 0.0000e+00\n",
      "Epoch 69/100\n",
      "1002/1002 [==============================] - 2s 2ms/step - loss: 0.0026 - acc: 9.9800e-04 - val_loss: 0.0037 - val_acc: 0.0000e+00\n",
      "Epoch 70/100\n",
      "1002/1002 [==============================] - 2s 2ms/step - loss: 0.0024 - acc: 9.9800e-04 - val_loss: 0.0045 - val_acc: 0.0000e+00\n",
      "Epoch 71/100\n",
      "1002/1002 [==============================] - 2s 2ms/step - loss: 0.0023 - acc: 9.9800e-04 - val_loss: 0.0030 - val_acc: 0.0000e+00\n",
      "Epoch 72/100\n",
      "1002/1002 [==============================] - 3s 3ms/step - loss: 0.0023 - acc: 9.9800e-04 - val_loss: 0.0033 - val_acc: 0.0000e+00\n",
      "Epoch 73/100\n",
      "1002/1002 [==============================] - 3s 3ms/step - loss: 0.0024 - acc: 9.9800e-04 - val_loss: 0.0037 - val_acc: 0.0000e+00\n",
      "Epoch 74/100\n",
      "1002/1002 [==============================] - 2s 2ms/step - loss: 0.0025 - acc: 9.9800e-04 - val_loss: 0.0059 - val_acc: 0.0000e+00\n",
      "Epoch 75/100\n",
      "1002/1002 [==============================] - 3s 3ms/step - loss: 0.0021 - acc: 9.9800e-04 - val_loss: 0.0038 - val_acc: 0.0000e+00\n",
      "Epoch 76/100\n",
      "1002/1002 [==============================] - 3s 3ms/step - loss: 0.0026 - acc: 9.9800e-04 - val_loss: 0.0036 - val_acc: 0.0000e+00\n",
      "Epoch 77/100\n",
      "1002/1002 [==============================] - 3s 3ms/step - loss: 0.0022 - acc: 9.9800e-04 - val_loss: 0.0053 - val_acc: 0.0000e+00\n",
      "Epoch 78/100\n",
      "1002/1002 [==============================] - 3s 3ms/step - loss: 0.0024 - acc: 9.9800e-04 - val_loss: 0.0046 - val_acc: 0.0000e+00\n",
      "Epoch 79/100\n",
      "1002/1002 [==============================] - 2s 2ms/step - loss: 0.0024 - acc: 9.9800e-04 - val_loss: 0.0048 - val_acc: 0.0000e+00\n",
      "Epoch 80/100\n",
      "1002/1002 [==============================] - 2s 2ms/step - loss: 0.0021 - acc: 9.9800e-04 - val_loss: 0.0030 - val_acc: 0.0000e+00\n",
      "Epoch 81/100\n",
      "1002/1002 [==============================] - 2s 2ms/step - loss: 0.0023 - acc: 9.9800e-04 - val_loss: 0.0049 - val_acc: 0.0000e+00\n",
      "Epoch 82/100\n",
      "1002/1002 [==============================] - 2s 2ms/step - loss: 0.0023 - acc: 9.9800e-04 - val_loss: 0.0060 - val_acc: 0.0000e+00\n",
      "Epoch 83/100\n",
      "1002/1002 [==============================] - 2s 2ms/step - loss: 0.0024 - acc: 9.9800e-04 - val_loss: 0.0063 - val_acc: 0.0000e+00\n",
      "Epoch 84/100\n",
      "1002/1002 [==============================] - 2s 2ms/step - loss: 0.0024 - acc: 9.9800e-04 - val_loss: 0.0040 - val_acc: 0.0000e+00\n",
      "Epoch 85/100\n",
      "1002/1002 [==============================] - 2s 2ms/step - loss: 0.0023 - acc: 9.9800e-04 - val_loss: 0.0040 - val_acc: 0.0000e+00\n",
      "Epoch 86/100\n",
      "1002/1002 [==============================] - 2s 2ms/step - loss: 0.0023 - acc: 9.9800e-04 - val_loss: 0.0046 - val_acc: 0.0000e+00\n",
      "Epoch 87/100\n",
      "1002/1002 [==============================] - 2s 2ms/step - loss: 0.0024 - acc: 9.9800e-04 - val_loss: 0.0033 - val_acc: 0.0000e+00\n",
      "Epoch 88/100\n",
      "1002/1002 [==============================] - 3s 3ms/step - loss: 0.0023 - acc: 9.9800e-04 - val_loss: 0.0044 - val_acc: 0.0000e+00\n",
      "Epoch 89/100\n",
      "1002/1002 [==============================] - 3s 3ms/step - loss: 0.0021 - acc: 9.9800e-04 - val_loss: 0.0055 - val_acc: 0.0000e+00\n",
      "Epoch 90/100\n",
      "1002/1002 [==============================] - 2s 2ms/step - loss: 0.0023 - acc: 9.9800e-04 - val_loss: 0.0058 - val_acc: 0.0000e+00\n",
      "Epoch 91/100\n",
      "1002/1002 [==============================] - 2s 2ms/step - loss: 0.0021 - acc: 9.9800e-04 - val_loss: 0.0048 - val_acc: 0.0000e+00\n",
      "Epoch 92/100\n",
      "1002/1002 [==============================] - 2s 2ms/step - loss: 0.0021 - acc: 9.9800e-04 - val_loss: 0.0081 - val_acc: 0.0000e+00\n",
      "Epoch 93/100\n",
      "1002/1002 [==============================] - 2s 2ms/step - loss: 0.0020 - acc: 9.9800e-04 - val_loss: 0.0057 - val_acc: 0.0000e+00\n",
      "Epoch 94/100\n",
      "1002/1002 [==============================] - 3s 3ms/step - loss: 0.0022 - acc: 9.9800e-04 - val_loss: 0.0094 - val_acc: 0.0000e+00\n",
      "Epoch 95/100\n",
      "1002/1002 [==============================] - 3s 3ms/step - loss: 0.0021 - acc: 9.9800e-04 - val_loss: 0.0050 - val_acc: 0.0000e+00\n",
      "Epoch 96/100\n",
      "1002/1002 [==============================] - 2s 2ms/step - loss: 0.0020 - acc: 9.9800e-04 - val_loss: 0.0090 - val_acc: 0.0000e+00\n",
      "Epoch 97/100\n",
      "1002/1002 [==============================] - 2s 2ms/step - loss: 0.0021 - acc: 9.9800e-04 - val_loss: 0.0053 - val_acc: 0.0000e+00\n",
      "Epoch 98/100\n",
      "1002/1002 [==============================] - 2s 2ms/step - loss: 0.0021 - acc: 9.9800e-04 - val_loss: 0.0059 - val_acc: 0.0000e+00\n",
      "Epoch 99/100\n",
      "1002/1002 [==============================] - 2s 2ms/step - loss: 0.0020 - acc: 9.9800e-04 - val_loss: 0.0083 - val_acc: 0.0000e+00\n",
      "Epoch 100/100\n",
      "1002/1002 [==============================] - 2s 2ms/step - loss: 0.0020 - acc: 9.9800e-04 - val_loss: 0.0052 - val_acc: 0.0000e+00\n"
     ]
    },
    {
     "data": {
      "text/plain": [
       "<keras.callbacks.History at 0x1e8051fe198>"
      ]
     },
     "execution_count": 63,
     "metadata": {},
     "output_type": "execute_result"
    }
   ],
   "source": [
    "model.fit(X_train,y_train,batch_size=512,epochs=100,validation_split=0.1,verbose=1)"
   ]
  },
  {
   "cell_type": "code",
   "execution_count": 64,
   "metadata": {
    "scrolled": true
   },
   "outputs": [
    {
     "name": "stdout",
     "output_type": "stream",
     "text": [
      "Train on 1002 samples, validate on 112 samples\n",
      "Epoch 1/100\n",
      "1002/1002 [==============================] - 5s 5ms/step - loss: 0.3122 - acc: 0.0000e+00 - val_loss: 0.0241 - val_acc: 0.0000e+00\n",
      "Epoch 2/100\n",
      "1002/1002 [==============================] - 2s 2ms/step - loss: 0.2786 - acc: 0.0000e+00 - val_loss: 0.0141 - val_acc: 0.0000e+00\n",
      "Epoch 3/100\n",
      "1002/1002 [==============================] - 2s 2ms/step - loss: 0.1728 - acc: 0.0000e+00 - val_loss: 0.0073 - val_acc: 0.0000e+00\n",
      "Epoch 4/100\n",
      "1002/1002 [==============================] - 2s 2ms/step - loss: 0.0434 - acc: 9.9800e-04 - val_loss: 0.2222 - val_acc: 0.0000e+00\n",
      "Epoch 5/100\n",
      "1002/1002 [==============================] - 2s 2ms/step - loss: 0.0678 - acc: 9.9800e-04 - val_loss: 0.2295 - val_acc: 0.0000e+00\n",
      "Epoch 6/100\n",
      "1002/1002 [==============================] - 2s 2ms/step - loss: 0.0534 - acc: 9.9800e-04 - val_loss: 0.1331 - val_acc: 0.0000e+00\n",
      "Epoch 7/100\n",
      "1002/1002 [==============================] - 2s 2ms/step - loss: 0.0413 - acc: 9.9800e-04 - val_loss: 0.0786 - val_acc: 0.0000e+00\n",
      "Epoch 8/100\n",
      "1002/1002 [==============================] - 2s 2ms/step - loss: 0.0470 - acc: 0.0000e+00 - val_loss: 0.0636 - val_acc: 0.0000e+00\n",
      "Epoch 9/100\n",
      "1002/1002 [==============================] - 2s 2ms/step - loss: 0.0508 - acc: 0.0000e+00 - val_loss: 0.0703 - val_acc: 0.0000e+00\n",
      "Epoch 10/100\n",
      "1002/1002 [==============================] - 2s 2ms/step - loss: 0.0464 - acc: 0.0000e+00 - val_loss: 0.0927 - val_acc: 0.0000e+00\n",
      "Epoch 11/100\n",
      "1002/1002 [==============================] - 2s 2ms/step - loss: 0.0404 - acc: 9.9800e-04 - val_loss: 0.1261 - val_acc: 0.0000e+00\n",
      "Epoch 12/100\n",
      "1002/1002 [==============================] - 2s 2ms/step - loss: 0.0395 - acc: 9.9800e-04 - val_loss: 0.1562 - val_acc: 0.0000e+00\n",
      "Epoch 13/100\n",
      "1002/1002 [==============================] - 2s 2ms/step - loss: 0.0416 - acc: 9.9800e-04 - val_loss: 0.1641 - val_acc: 0.0000e+00\n",
      "Epoch 14/100\n",
      "1002/1002 [==============================] - 2s 2ms/step - loss: 0.0422 - acc: 9.9800e-04 - val_loss: 0.1460 - val_acc: 0.0000e+00\n",
      "Epoch 15/100\n",
      "1002/1002 [==============================] - 2s 2ms/step - loss: 0.0394 - acc: 9.9800e-04 - val_loss: 0.1201 - val_acc: 0.0000e+00\n",
      "Epoch 16/100\n",
      "1002/1002 [==============================] - 2s 2ms/step - loss: 0.0378 - acc: 9.9800e-04 - val_loss: 0.1005 - val_acc: 0.0000e+00\n",
      "Epoch 17/100\n",
      "1002/1002 [==============================] - 2s 2ms/step - loss: 0.0377 - acc: 9.9800e-04 - val_loss: 0.0919 - val_acc: 0.0000e+00\n",
      "Epoch 18/100\n",
      "1002/1002 [==============================] - 2s 2ms/step - loss: 0.0369 - acc: 0.0000e+00 - val_loss: 0.0934 - val_acc: 0.0000e+00\n",
      "Epoch 19/100\n",
      "1002/1002 [==============================] - 2s 2ms/step - loss: 0.0351 - acc: 9.9800e-04 - val_loss: 0.1021 - val_acc: 0.0000e+00\n",
      "Epoch 20/100\n",
      "1002/1002 [==============================] - 2s 2ms/step - loss: 0.0319 - acc: 9.9800e-04 - val_loss: 0.1072 - val_acc: 0.0000e+00\n",
      "Epoch 21/100\n",
      "1002/1002 [==============================] - 2s 2ms/step - loss: 0.0300 - acc: 9.9800e-04 - val_loss: 0.0976 - val_acc: 0.0000e+00\n",
      "Epoch 22/100\n",
      "1002/1002 [==============================] - 2s 2ms/step - loss: 0.0245 - acc: 9.9800e-04 - val_loss: 0.0866 - val_acc: 0.0000e+00\n",
      "Epoch 23/100\n",
      "1002/1002 [==============================] - 2s 2ms/step - loss: 0.0198 - acc: 9.9800e-04 - val_loss: 0.0829 - val_acc: 0.0000e+00\n",
      "Epoch 24/100\n",
      "1002/1002 [==============================] - 2s 2ms/step - loss: 0.0135 - acc: 9.9800e-04 - val_loss: 0.0741 - val_acc: 0.0000e+00\n",
      "Epoch 25/100\n",
      "1002/1002 [==============================] - 2s 2ms/step - loss: 0.0105 - acc: 9.9800e-04 - val_loss: 0.0640 - val_acc: 0.0000e+00\n",
      "Epoch 26/100\n",
      "1002/1002 [==============================] - 2s 2ms/step - loss: 0.0111 - acc: 9.9800e-04 - val_loss: 0.0589 - val_acc: 0.0000e+00\n",
      "Epoch 27/100\n",
      "1002/1002 [==============================] - 2s 2ms/step - loss: 0.0119 - acc: 9.9800e-04 - val_loss: 0.0582 - val_acc: 0.0000e+00\n",
      "Epoch 28/100\n",
      "1002/1002 [==============================] - 2s 2ms/step - loss: 0.0115 - acc: 9.9800e-04 - val_loss: 0.0579 - val_acc: 0.0000e+00\n",
      "Epoch 29/100\n",
      "1002/1002 [==============================] - 2s 2ms/step - loss: 0.0101 - acc: 9.9800e-04 - val_loss: 0.0535 - val_acc: 0.0000e+00\n",
      "Epoch 30/100\n",
      "1002/1002 [==============================] - 2s 2ms/step - loss: 0.0080 - acc: 9.9800e-04 - val_loss: 0.0486 - val_acc: 0.0000e+00\n",
      "Epoch 31/100\n",
      "1002/1002 [==============================] - 2s 2ms/step - loss: 0.0081 - acc: 9.9800e-04 - val_loss: 0.0494 - val_acc: 0.0000e+00\n",
      "Epoch 32/100\n",
      "1002/1002 [==============================] - 2s 2ms/step - loss: 0.0079 - acc: 9.9800e-04 - val_loss: 0.0441 - val_acc: 0.0000e+00\n",
      "Epoch 33/100\n",
      "1002/1002 [==============================] - 2s 2ms/step - loss: 0.0073 - acc: 9.9800e-04 - val_loss: 0.0382 - val_acc: 0.0000e+00\n",
      "Epoch 34/100\n",
      "1002/1002 [==============================] - 2s 2ms/step - loss: 0.0057 - acc: 9.9800e-04 - val_loss: 0.0328 - val_acc: 0.0000e+00\n",
      "Epoch 35/100\n",
      "1002/1002 [==============================] - 2s 2ms/step - loss: 0.0056 - acc: 9.9800e-04 - val_loss: 0.0240 - val_acc: 0.0000e+00\n",
      "Epoch 36/100\n",
      "1002/1002 [==============================] - 2s 2ms/step - loss: 0.0058 - acc: 9.9800e-04 - val_loss: 0.0216 - val_acc: 0.0000e+00\n",
      "Epoch 37/100\n",
      "1002/1002 [==============================] - 2s 2ms/step - loss: 0.0048 - acc: 9.9800e-04 - val_loss: 0.0197 - val_acc: 0.0000e+00\n",
      "Epoch 38/100\n",
      "1002/1002 [==============================] - 2s 2ms/step - loss: 0.0040 - acc: 9.9800e-04 - val_loss: 0.0159 - val_acc: 0.0000e+00\n",
      "Epoch 39/100\n",
      "1002/1002 [==============================] - 2s 2ms/step - loss: 0.0039 - acc: 9.9800e-04 - val_loss: 0.0101 - val_acc: 0.0000e+00\n",
      "Epoch 40/100\n",
      "1002/1002 [==============================] - 2s 2ms/step - loss: 0.0034 - acc: 9.9800e-04 - val_loss: 0.0047 - val_acc: 0.0000e+00\n",
      "Epoch 41/100\n",
      "1002/1002 [==============================] - 2s 2ms/step - loss: 0.0034 - acc: 9.9800e-04 - val_loss: 0.0038 - val_acc: 0.0000e+00\n",
      "Epoch 42/100\n",
      "1002/1002 [==============================] - 2s 2ms/step - loss: 0.0032 - acc: 9.9800e-04 - val_loss: 0.0027 - val_acc: 0.0000e+00\n",
      "Epoch 43/100\n",
      "1002/1002 [==============================] - 2s 2ms/step - loss: 0.0034 - acc: 9.9800e-04 - val_loss: 0.0020 - val_acc: 0.0000e+00\n",
      "Epoch 44/100\n",
      "1002/1002 [==============================] - 2s 2ms/step - loss: 0.0030 - acc: 9.9800e-04 - val_loss: 9.0274e-04 - val_acc: 0.0000e+00\n",
      "Epoch 45/100\n",
      "1002/1002 [==============================] - 2s 2ms/step - loss: 0.0032 - acc: 9.9800e-04 - val_loss: 9.1886e-04 - val_acc: 0.0000e+00\n",
      "Epoch 46/100\n",
      "1002/1002 [==============================] - 2s 2ms/step - loss: 0.0031 - acc: 9.9800e-04 - val_loss: 9.5952e-04 - val_acc: 0.0000e+00\n",
      "Epoch 47/100\n",
      "1002/1002 [==============================] - 2s 2ms/step - loss: 0.0031 - acc: 9.9800e-04 - val_loss: 0.0010 - val_acc: 0.0000e+00\n",
      "Epoch 48/100\n",
      "1002/1002 [==============================] - 2s 2ms/step - loss: 0.0029 - acc: 9.9800e-04 - val_loss: 8.7002e-04 - val_acc: 0.0000e+00\n",
      "Epoch 49/100\n",
      "1002/1002 [==============================] - 2s 2ms/step - loss: 0.0026 - acc: 9.9800e-04 - val_loss: 8.6565e-04 - val_acc: 0.0000e+00\n",
      "Epoch 50/100\n",
      "1002/1002 [==============================] - 2s 2ms/step - loss: 0.0030 - acc: 9.9800e-04 - val_loss: 8.7336e-04 - val_acc: 0.0000e+00\n",
      "Epoch 51/100\n",
      "1002/1002 [==============================] - 2s 2ms/step - loss: 0.0026 - acc: 9.9800e-04 - val_loss: 9.7843e-04 - val_acc: 0.0000e+00\n",
      "Epoch 52/100\n",
      "1002/1002 [==============================] - 2s 2ms/step - loss: 0.0027 - acc: 9.9800e-04 - val_loss: 8.6890e-04 - val_acc: 0.0000e+00\n",
      "Epoch 53/100\n",
      "1002/1002 [==============================] - 2s 2ms/step - loss: 0.0028 - acc: 9.9800e-04 - val_loss: 8.5281e-04 - val_acc: 0.0000e+00\n",
      "Epoch 54/100\n",
      "1002/1002 [==============================] - 2s 2ms/step - loss: 0.0027 - acc: 9.9800e-04 - val_loss: 8.4329e-04 - val_acc: 0.0000e+00\n",
      "Epoch 55/100\n",
      "1002/1002 [==============================] - 2s 2ms/step - loss: 0.0028 - acc: 9.9800e-04 - val_loss: 8.5180e-04 - val_acc: 0.0000e+00\n",
      "Epoch 56/100\n",
      "1002/1002 [==============================] - 2s 2ms/step - loss: 0.0026 - acc: 9.9800e-04 - val_loss: 8.8899e-04 - val_acc: 0.0000e+00\n",
      "Epoch 57/100\n",
      "1002/1002 [==============================] - 2s 2ms/step - loss: 0.0026 - acc: 9.9800e-04 - val_loss: 8.4424e-04 - val_acc: 0.0000e+00\n",
      "Epoch 58/100\n",
      "1002/1002 [==============================] - 2s 2ms/step - loss: 0.0026 - acc: 9.9800e-04 - val_loss: 8.3941e-04 - val_acc: 0.0000e+00\n",
      "Epoch 59/100\n",
      "1002/1002 [==============================] - 2s 2ms/step - loss: 0.0026 - acc: 9.9800e-04 - val_loss: 9.3396e-04 - val_acc: 0.0000e+00\n",
      "Epoch 60/100\n",
      "1002/1002 [==============================] - 2s 2ms/step - loss: 0.0024 - acc: 9.9800e-04 - val_loss: 0.0011 - val_acc: 0.0000e+00\n",
      "Epoch 61/100\n",
      "1002/1002 [==============================] - 2s 2ms/step - loss: 0.0024 - acc: 9.9800e-04 - val_loss: 0.0011 - val_acc: 0.0000e+00\n",
      "Epoch 62/100\n",
      "1002/1002 [==============================] - 2s 2ms/step - loss: 0.0024 - acc: 9.9800e-04 - val_loss: 9.0190e-04 - val_acc: 0.0000e+00\n",
      "Epoch 63/100\n",
      "1002/1002 [==============================] - 2s 2ms/step - loss: 0.0024 - acc: 9.9800e-04 - val_loss: 0.0011 - val_acc: 0.0000e+00\n",
      "Epoch 64/100\n",
      "1002/1002 [==============================] - 2s 2ms/step - loss: 0.0026 - acc: 9.9800e-04 - val_loss: 9.5482e-04 - val_acc: 0.0000e+00\n",
      "Epoch 65/100\n",
      "1002/1002 [==============================] - 2s 2ms/step - loss: 0.0025 - acc: 9.9800e-04 - val_loss: 8.8705e-04 - val_acc: 0.0000e+00\n",
      "Epoch 66/100\n",
      "1002/1002 [==============================] - 2s 2ms/step - loss: 0.0025 - acc: 9.9800e-04 - val_loss: 0.0010 - val_acc: 0.0000e+00\n",
      "Epoch 67/100\n",
      "1002/1002 [==============================] - 2s 2ms/step - loss: 0.0023 - acc: 9.9800e-04 - val_loss: 9.9925e-04 - val_acc: 0.0000e+00\n",
      "Epoch 68/100\n",
      "1002/1002 [==============================] - 2s 2ms/step - loss: 0.0029 - acc: 9.9800e-04 - val_loss: 9.2896e-04 - val_acc: 0.0000e+00\n",
      "Epoch 69/100\n",
      "1002/1002 [==============================] - 2s 2ms/step - loss: 0.0023 - acc: 9.9800e-04 - val_loss: 9.5761e-04 - val_acc: 0.0000e+00\n",
      "Epoch 70/100\n",
      "1002/1002 [==============================] - 2s 2ms/step - loss: 0.0024 - acc: 9.9800e-04 - val_loss: 9.9785e-04 - val_acc: 0.0000e+00\n",
      "Epoch 71/100\n",
      "1002/1002 [==============================] - 2s 2ms/step - loss: 0.0023 - acc: 9.9800e-04 - val_loss: 0.0011 - val_acc: 0.0000e+00\n",
      "Epoch 72/100\n",
      "1002/1002 [==============================] - 2s 2ms/step - loss: 0.0024 - acc: 9.9800e-04 - val_loss: 8.5384e-04 - val_acc: 0.0000e+00\n",
      "Epoch 73/100\n",
      "1002/1002 [==============================] - 2s 2ms/step - loss: 0.0024 - acc: 9.9800e-04 - val_loss: 8.8214e-04 - val_acc: 0.0000e+00\n",
      "Epoch 74/100\n",
      "1002/1002 [==============================] - 2s 2ms/step - loss: 0.0024 - acc: 9.9800e-04 - val_loss: 9.7242e-04 - val_acc: 0.0000e+00\n",
      "Epoch 75/100\n",
      "1002/1002 [==============================] - 2s 2ms/step - loss: 0.0024 - acc: 9.9800e-04 - val_loss: 0.0011 - val_acc: 0.0000e+00\n",
      "Epoch 76/100\n",
      "1002/1002 [==============================] - 2s 2ms/step - loss: 0.0024 - acc: 9.9800e-04 - val_loss: 0.0015 - val_acc: 0.0000e+00\n",
      "Epoch 77/100\n",
      "1002/1002 [==============================] - 2s 2ms/step - loss: 0.0025 - acc: 9.9800e-04 - val_loss: 9.2762e-04 - val_acc: 0.0000e+00\n",
      "Epoch 78/100\n",
      "1002/1002 [==============================] - 2s 2ms/step - loss: 0.0025 - acc: 9.9800e-04 - val_loss: 8.5785e-04 - val_acc: 0.0000e+00\n",
      "Epoch 79/100\n",
      "1002/1002 [==============================] - 2s 2ms/step - loss: 0.0023 - acc: 9.9800e-04 - val_loss: 0.0013 - val_acc: 0.0000e+00\n",
      "Epoch 80/100\n",
      "1002/1002 [==============================] - 2s 2ms/step - loss: 0.0023 - acc: 9.9800e-04 - val_loss: 0.0013 - val_acc: 0.0000e+00\n",
      "Epoch 81/100\n",
      "1002/1002 [==============================] - 2s 2ms/step - loss: 0.0020 - acc: 9.9800e-04 - val_loss: 8.9519e-04 - val_acc: 0.0000e+00\n",
      "Epoch 82/100\n",
      "1002/1002 [==============================] - 2s 2ms/step - loss: 0.0021 - acc: 9.9800e-04 - val_loss: 8.9471e-04 - val_acc: 0.0000e+00\n",
      "Epoch 83/100\n",
      "1002/1002 [==============================] - 2s 2ms/step - loss: 0.0020 - acc: 9.9800e-04 - val_loss: 0.0010 - val_acc: 0.0000e+00\n",
      "Epoch 84/100\n",
      "1002/1002 [==============================] - 2s 2ms/step - loss: 0.0022 - acc: 9.9800e-04 - val_loss: 9.9951e-04 - val_acc: 0.0000e+00\n",
      "Epoch 85/100\n",
      "1002/1002 [==============================] - 2s 2ms/step - loss: 0.0020 - acc: 9.9800e-04 - val_loss: 9.7137e-04 - val_acc: 0.0000e+00\n",
      "Epoch 86/100\n",
      "1002/1002 [==============================] - 2s 2ms/step - loss: 0.0024 - acc: 9.9800e-04 - val_loss: 0.0012 - val_acc: 0.0000e+00\n",
      "Epoch 87/100\n",
      "1002/1002 [==============================] - 2s 2ms/step - loss: 0.0023 - acc: 9.9800e-04 - val_loss: 9.2815e-04 - val_acc: 0.0000e+00\n",
      "Epoch 88/100\n",
      "1002/1002 [==============================] - 2s 2ms/step - loss: 0.0021 - acc: 9.9800e-04 - val_loss: 0.0013 - val_acc: 0.0000e+00\n",
      "Epoch 89/100\n",
      "1002/1002 [==============================] - 2s 2ms/step - loss: 0.0024 - acc: 9.9800e-04 - val_loss: 8.8914e-04 - val_acc: 0.0000e+00\n",
      "Epoch 90/100\n",
      "1002/1002 [==============================] - 2s 2ms/step - loss: 0.0021 - acc: 9.9800e-04 - val_loss: 0.0013 - val_acc: 0.0000e+00\n",
      "Epoch 91/100\n",
      "1002/1002 [==============================] - 2s 2ms/step - loss: 0.0020 - acc: 9.9800e-04 - val_loss: 9.1757e-04 - val_acc: 0.0000e+00\n",
      "Epoch 92/100\n",
      "1002/1002 [==============================] - 2s 2ms/step - loss: 0.0021 - acc: 9.9800e-04 - val_loss: 9.1934e-04 - val_acc: 0.0000e+00\n",
      "Epoch 93/100\n",
      "1002/1002 [==============================] - 2s 2ms/step - loss: 0.0020 - acc: 9.9800e-04 - val_loss: 0.0012 - val_acc: 0.0000e+00\n",
      "Epoch 94/100\n",
      "1002/1002 [==============================] - 2s 2ms/step - loss: 0.0022 - acc: 9.9800e-04 - val_loss: 0.0011 - val_acc: 0.0000e+00\n",
      "Epoch 95/100\n",
      "1002/1002 [==============================] - 2s 2ms/step - loss: 0.0022 - acc: 9.9800e-04 - val_loss: 0.0013 - val_acc: 0.0000e+00\n",
      "Epoch 96/100\n",
      "1002/1002 [==============================] - 2s 2ms/step - loss: 0.0021 - acc: 9.9800e-04 - val_loss: 0.0015 - val_acc: 0.0000e+00\n",
      "Epoch 97/100\n",
      "1002/1002 [==============================] - 2s 2ms/step - loss: 0.0024 - acc: 9.9800e-04 - val_loss: 0.0024 - val_acc: 0.0000e+00\n",
      "Epoch 98/100\n",
      "1002/1002 [==============================] - 2s 2ms/step - loss: 0.0022 - acc: 9.9800e-04 - val_loss: 9.9630e-04 - val_acc: 0.0000e+00\n",
      "Epoch 99/100\n",
      "1002/1002 [==============================] - 2s 2ms/step - loss: 0.0023 - acc: 9.9800e-04 - val_loss: 0.0010 - val_acc: 0.0000e+00\n",
      "Epoch 100/100\n",
      "1002/1002 [==============================] - 2s 2ms/step - loss: 0.0019 - acc: 9.9800e-04 - val_loss: 9.8090e-04 - val_acc: 0.0000e+00\n"
     ]
    },
    {
     "data": {
      "text/plain": [
       "<keras.callbacks.History at 0x1e819065470>"
      ]
     },
     "execution_count": 64,
     "metadata": {},
     "output_type": "execute_result"
    }
   ],
   "source": [
    "model1.fit(X_train1,y_train1,batch_size=512,epochs=100,validation_split=0.1,verbose=1)"
   ]
  },
  {
   "cell_type": "code",
   "execution_count": 65,
   "metadata": {},
   "outputs": [],
   "source": [
    "p = model.predict(X_test)\n",
    "p1 = model1.predict(X_test1)"
   ]
  },
  {
   "cell_type": "markdown",
   "metadata": {},
   "source": [
    "### Error metrics with previous day open price"
   ]
  },
  {
   "cell_type": "code",
   "execution_count": 66,
   "metadata": {},
   "outputs": [],
   "source": [
    "# Bug fixed at here, please update the denormalize function to this one\n",
    "def denormalize(df, normalized_value): \n",
    "    df = df['open'].values.reshape(-1,1)\n",
    "    normalized_value = normalized_value.reshape(-1,1)\n",
    "    \n",
    "    #return df.shape, p.shape\n",
    "    min_max_scaler = preprocessing.MinMaxScaler()\n",
    "    a = min_max_scaler.fit_transform(df)\n",
    "    new = min_max_scaler.inverse_transform(normalized_value)\n",
    "    return new\n",
    "\n",
    "newp = denormalize(old_df, p)\n",
    "newy_test = denormalize(old_df, y_test)\n",
    "newp1= denormalize(old_df_nopreopen,p1)\n",
    "newy_test1 =denormalize(old_df_nopreopen,y_test1)"
   ]
  },
  {
   "cell_type": "code",
   "execution_count": 67,
   "metadata": {
    "scrolled": true
   },
   "outputs": [
    {
     "data": {
      "image/png": "[encoded data removed]",
      "text/plain": [
       "<matplotlib.figure.Figure at 0x1e8051fe898>"
      ]
     },
     "metadata": {},
     "output_type": "display_data"
    }
   ],
   "source": [
    "import matplotlib.pyplot as plt\n",
    "plt.plot(newp,color='red', label='Prediction')\n",
    "plt.plot(newy_test,color='blue', label='Actual')\n",
    "plt.legend(loc='best')\n",
    "\n",
    "plt.show()"
   ]
  },
  {
   "cell_type": "code",
   "execution_count": 68,
   "metadata": {},
   "outputs": [
    {
     "name": "stdout",
     "output_type": "stream",
     "text": [
      "Mean absolute error is  0.1522760209588008\n",
      "Mean absolute percentage error is  364.45112352524575\n",
      "Root mean squared error is  0.16290754308412192\n",
      "RSquare is  -20.972789374579666\n"
     ]
    }
   ],
   "source": [
    "summary_test = pd.DataFrame(index={'MAE', 'MAPE', 'RMSE', 'R2'})\n",
    "def determineAnalysis(true, pred, regressor): \n",
    "    mae = mean_absolute_error(true, pred)\n",
    "    rmse = sqrt(mean_squared_error(true, pred))\n",
    "    r2 = r2_score(true, pred)\n",
    "    true, pred = np.array(true), np.array(pred)\n",
    "    mape = np.mean(np.abs((true - pred) / true)) * 100\n",
    "    print('Mean absolute error is ',mae)\n",
    "    print('Mean absolute percentage error is ',mape)\n",
    "    print('Root mean squared error is ',rmse)\n",
    "    print('RSquare is ',r2)\n",
    "    return mae,mape,rmse,r2\n",
    "\n",
    "mae,mape,rmse,r2 = determineAnalysis(newy_test, newp, model)"
   ]
  },
  {
   "cell_type": "markdown",
   "metadata": {},
   "source": [
    "### Error metrics without previous day open price"
   ]
  },
  {
   "cell_type": "code",
   "execution_count": 69,
   "metadata": {},
   "outputs": [
    {
     "data": {
      "image/png": "[encoded data removed]",
      "text/plain": [
       "<matplotlib.figure.Figure at 0x1e81d130080>"
      ]
     },
     "metadata": {},
     "output_type": "display_data"
    }
   ],
   "source": [
    "import matplotlib.pyplot as plt\n",
    "plt.plot(newp1,color='red', label='Prediction')\n",
    "plt.plot(newy_test1,color='blue', label='Actual')\n",
    "plt.legend(loc='best')\n",
    "\n",
    "plt.show()"
   ]
  },
  {
   "cell_type": "code",
   "execution_count": 70,
   "metadata": {},
   "outputs": [
    {
     "name": "stdout",
     "output_type": "stream",
     "text": [
      "Mean absolute error is  0.05383486621633398\n",
      "Mean absolute percentage error is  122.91292853926976\n",
      "Root mean squared error is  0.06471227986119746\n",
      "RSquare is  -2.467178542276523\n"
     ]
    }
   ],
   "source": [
    "mae,mape,rmse,r2 = determineAnalysis(newy_test1, newp1, model1)"
   ]
  },
  {
   "cell_type": "markdown",
   "metadata": {},
   "source": [
    "### Conclusion:\n",
    "\n",
    "None of the model build with tweet senitments resulted with good or decent prediction. Hence considering LSTM with just stock data model better that with a model including senitment measures."
   ]
  }
 ],
 "metadata": {
  "kernelspec": {
   "display_name": "Python 3",
   "language": "python",
   "name": "python3"
  },
  "language_info": {
   "codemirror_mode": {
    "name": "ipython",
    "version": 3
   },
   "file_extension": ".py",
   "mimetype": "text/x-python",
   "name": "python",
   "nbconvert_exporter": "python",
   "pygments_lexer": "ipython3",
   "version": "3.6.4"
  }
 },
 "nbformat": 4,
 "nbformat_minor": 2
}
